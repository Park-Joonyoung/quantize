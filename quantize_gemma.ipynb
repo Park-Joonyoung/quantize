{
 "cells": [
  {
   "cell_type": "code",
   "execution_count": null,
   "id": "9b569ee6",
   "metadata": {},
   "outputs": [
    {
     "name": "stderr",
     "output_type": "stream",
     "text": [
      "/home/joonyoung/.pyenv/versions/edge/lib/python3.11/site-packages/tqdm/auto.py:21: TqdmWarning: IProgress not found. Please update jupyter and ipywidgets. See https://ipywidgets.readthedocs.io/en/stable/user_install.html\n",
      "  from .autonotebook import tqdm as notebook_tqdm\n",
      "Fetching 12 files: 100%|██████████| 12/12 [00:00<00:00, 31476.95it/s]"
     ]
    },
    {
     "name": "stdout",
     "output_type": "stream",
     "text": [
      "Downloaded to: /home/joonyoung/quantize/gemma2-2b\n"
     ]
    },
    {
     "name": "stderr",
     "output_type": "stream",
     "text": [
      "\n"
     ]
    }
   ],
   "source": [
    "from huggingface_hub import snapshot_download\n",
    "\n",
    "# one-time download (online machine)\n",
    "local_dir = \"/path/to/gemma2-2b\"  # <- choose a real path you own\n",
    "path = snapshot_download(\"google/gemma-2-2b\", local_dir=local_dir, token=\"hf_***\")  \n",
    "print(\"Downloaded to:\", path)"
   ]
  },
  {
   "cell_type": "code",
   "execution_count": null,
   "id": "f9d714e8",
   "metadata": {},
   "outputs": [
    {
     "name": "stderr",
     "output_type": "stream",
     "text": [
      "WARNING: All log messages before absl::InitializeLog() is called are written to STDERR\n",
      "I0000 00:00:1757327214.927079    9063 port.cc:153] oneDNN custom operations are on. You may see slightly different numerical results due to floating-point round-off errors from different computation orders. To turn them off, set the environment variable `TF_ENABLE_ONEDNN_OPTS=0`.\n",
      "WARNING: All log messages before absl::InitializeLog() is called are written to STDERR\n",
      "I0000 00:00:1757327218.623342    9063 port.cc:153] oneDNN custom operations are on. You may see slightly different numerical results due to floating-point round-off errors from different computation orders. To turn them off, set the environment variable `TF_ENABLE_ONEDNN_OPTS=0`.\n",
      "/home/joonyoung/.pyenv/versions/edge/lib/python3.11/site-packages/torch/distributed/distributed_c10d.py:351: UserWarning: Device capability of jax unspecified, assuming `cpu` and `cuda`. Please specify it via the `devices` argument of `register_backend`.\n",
      "  warnings.warn(\n",
      "WARNING:2025-09-08 19:27:04,700:jax._src.xla_bridge:864: An NVIDIA GPU may be present on this machine, but a CUDA-enabled jaxlib is not installed. Falling back to cpu.\n",
      "/home/joonyoung/.pyenv/versions/edge/lib/python3.11/site-packages/tqdm/auto.py:21: TqdmWarning: IProgress not found. Please update jupyter and ipywidgets. See https://ipywidgets.readthedocs.io/en/stable/user_install.html\n",
      "  from .autonotebook import tqdm as notebook_tqdm\n",
      "E0000 00:00:1757327383.571855    9063 cuda_platform.cc:51] failed call to cuInit: INTERNAL: CUDA error: Failed call to cuInit: CUDA_ERROR_NO_DEVICE: no CUDA-capable device is detected\n"
     ]
    },
    {
     "name": "stdout",
     "output_type": "stream",
     "text": [
      "INFO:tensorflow:Assets written to: /tmp/tmp0_kwzjuh/assets\n"
     ]
    },
    {
     "name": "stderr",
     "output_type": "stream",
     "text": [
      "INFO:tensorflow:Assets written to: /tmp/tmp0_kwzjuh/assets\n"
     ]
    },
    {
     "ename": "",
     "evalue": "",
     "output_type": "error",
     "traceback": [
      "\u001b[1;31mThe Kernel crashed while executing code in the current cell or a previous cell. \n",
      "\u001b[1;31mPlease review the code in the cell(s) to identify a possible cause of the failure. \n",
      "\u001b[1;31mClick <a href='https://aka.ms/vscodeJupyterKernelCrash'>here</a> for more info. \n",
      "\u001b[1;31mView Jupyter <a href='command:jupyter.viewOutput'>log</a> for further details."
     ]
    }
   ],
   "source": [
    "import os\n",
    "os.environ[\"CUDA_VISIBLE_DEVICES\"] = \"\"   # hide GPUs from TensorFlow\n",
    "# Optional: quieter logs\n",
    "os.environ[\"TF_CPP_MIN_LOG_LEVEL\"] = \"1\"\n",
    "\n",
    "from ai_edge_torch.generative.examples.gemma import gemma2\n",
    "from ai_edge_torch.generative.utilities import converter, export_config, loader\n",
    "from ai_edge_torch.generative.layers import kv_cache as kv_utils\n",
    "\n",
    "checkpoint_path     = \"/path/to/gemma2-2b\"  # <— must exist\n",
    "output_path         = \"/tmp\"\n",
    "output_name_prefix  = \"gemma2_2b\"\n",
    "prefill_seq_lens    = [512]\n",
    "kv_cache_max_len    = 1024\n",
    "quantize            = \"dynamic_int8\"   # <-- instead of True\n",
    "\n",
    "model = gemma2.build_2b_model(\n",
    "    checkpoint_path,\n",
    "    custom_loader=loader.maybe_get_custom_loader(checkpoint_path, None),\n",
    "    mask_cache_size=kv_cache_max_len,   # avoids mask_cache assert\n",
    ")\n",
    "\n",
    "ec = export_config.ExportConfig(\n",
    "    mask_as_input=True,\n",
    "    kvcache_layout=kv_utils.KV_LAYOUT_TRANSPOSED,  # <-- replaces transpose_kv_cache=True\n",
    ")\n",
    "\n",
    "converter.convert_to_tflite(\n",
    "    model,\n",
    "    output_path=output_path,\n",
    "    output_name_prefix=output_name_prefix,\n",
    "    prefill_seq_len=prefill_seq_lens,\n",
    "    kv_cache_max_len=kv_cache_max_len,\n",
    "    quantize=quantize,\n",
    "    lora_ranks=None,\n",
    "    export_config=ec,\n",
    ")\n"
   ]
  },
  {
   "cell_type": "code",
   "execution_count": 5,
   "id": "e9b5a284",
   "metadata": {},
   "outputs": [
    {
     "name": "stdout",
     "output_type": "stream",
     "text": [
      "/home/joonyoung/.cache/huggingface/hub/models--google--gemma-2-2b/snapshots/c5ebcd40d208330abc697524c919956e692655cf\n"
     ]
    },
    {
     "name": "stderr",
     "output_type": "stream",
     "text": [
      "Loading checkpoint shards: 100%|██████████| 3/3 [00:00<00:00, 24.42it/s]\n"
     ]
    }
   ],
   "source": [
    "print(local_dir)\n",
    "# Later / offline:\n",
    "from transformers import AutoTokenizer, AutoModelForCausalLM\n",
    "tokenizer = AutoTokenizer.from_pretrained(local_dir, local_files_only=True)\n",
    "model = AutoModelForCausalLM.from_pretrained(local_dir, local_files_only=True)"
   ]
  },
  {
   "cell_type": "code",
   "execution_count": null,
   "id": "c92cd04c",
   "metadata": {},
   "outputs": [
    {
     "ename": "DuplicateFlagError",
     "evalue": "The flag 'checkpoint_path' is defined twice. First from ai_edge_torch.generative.utilities.converter, Second from ai_edge_torch.generative.utilities.converter.  Description from first occurrence: The path to the model checkpoint, or directory holding the checkpoint.",
     "output_type": "error",
     "traceback": [
      "\u001b[31m---------------------------------------------------------------------------\u001b[39m",
      "\u001b[31mDuplicateFlagError\u001b[39m                        Traceback (most recent call last)",
      "\u001b[36mCell\u001b[39m\u001b[36m \u001b[39m\u001b[32mIn[3]\u001b[39m\u001b[32m, line 10\u001b[39m\n\u001b[32m      7\u001b[39m \u001b[38;5;28;01mfrom\u001b[39;00m\u001b[38;5;250m \u001b[39m\u001b[34;01mai_edge_torch\u001b[39;00m\u001b[34;01m.\u001b[39;00m\u001b[34;01mgenerative\u001b[39;00m\u001b[34;01m.\u001b[39;00m\u001b[34;01mutilities\u001b[39;00m\u001b[38;5;250m \u001b[39m\u001b[38;5;28;01mimport\u001b[39;00m loader\n\u001b[32m      8\u001b[39m \u001b[38;5;28;01mimport\u001b[39;00m\u001b[38;5;250m \u001b[39m\u001b[34;01msys\u001b[39;00m\n\u001b[32m---> \u001b[39m\u001b[32m10\u001b[39m flags = \u001b[43mconverter\u001b[49m\u001b[43m.\u001b[49m\u001b[43mdefine_conversion_flags\u001b[49m\u001b[43m(\u001b[49m\n\u001b[32m     11\u001b[39m \u001b[43m    \u001b[49m\u001b[33;43m\"\u001b[39;49m\u001b[33;43mgemma2-2b\u001b[39;49m\u001b[33;43m\"\u001b[39;49m\u001b[43m,\u001b[49m\u001b[43m \u001b[49m\u001b[43mdefault_mask_as_input\u001b[49m\u001b[43m=\u001b[49m\u001b[38;5;28;43;01mTrue\u001b[39;49;00m\u001b[43m,\u001b[49m\u001b[43m \u001b[49m\u001b[43mdefault_transpose_kv_cache\u001b[49m\u001b[43m=\u001b[49m\u001b[38;5;28;43;01mTrue\u001b[39;49;00m\n\u001b[32m     12\u001b[39m \u001b[43m)\u001b[49m\n",
      "\u001b[36mFile \u001b[39m\u001b[32m~/ai-edge-torch/ai_edge_torch/generative/utilities/converter.py:75\u001b[39m, in \u001b[36mdefine_conversion_flags\u001b[39m\u001b[34m(model_name, default_mask_as_input, default_transpose_kv_cache)\u001b[39m\n\u001b[32m     68\u001b[39m \u001b[38;5;28;01mdef\u001b[39;00m\u001b[38;5;250m \u001b[39m\u001b[34mdefine_conversion_flags\u001b[39m(\n\u001b[32m     69\u001b[39m     model_name: \u001b[38;5;28mstr\u001b[39m,\n\u001b[32m     70\u001b[39m     default_mask_as_input: \u001b[38;5;28mbool\u001b[39m = \u001b[38;5;28;01mFalse\u001b[39;00m,\n\u001b[32m     71\u001b[39m     default_transpose_kv_cache: \u001b[38;5;28mbool\u001b[39m = \u001b[38;5;28;01mFalse\u001b[39;00m,\n\u001b[32m     72\u001b[39m ):\n\u001b[32m     73\u001b[39m \u001b[38;5;250m  \u001b[39m\u001b[33;03m\"\"\"Defines common flags used for model conversion.\"\"\"\u001b[39;00m\n\u001b[32m---> \u001b[39m\u001b[32m75\u001b[39m   \u001b[43mflags\u001b[49m\u001b[43m.\u001b[49m\u001b[43mDEFINE_string\u001b[49m\u001b[43m(\u001b[49m\n\u001b[32m     76\u001b[39m \u001b[43m      \u001b[49m\u001b[33;43m'\u001b[39;49m\u001b[33;43mcheckpoint_path\u001b[39;49m\u001b[33;43m'\u001b[39;49m\u001b[43m,\u001b[49m\n\u001b[32m     77\u001b[39m \u001b[43m      \u001b[49m\u001b[43mos\u001b[49m\u001b[43m.\u001b[49m\u001b[43mpath\u001b[49m\u001b[43m.\u001b[49m\u001b[43mjoin\u001b[49m\u001b[43m(\u001b[49m\u001b[43mpathlib\u001b[49m\u001b[43m.\u001b[49m\u001b[43mPath\u001b[49m\u001b[43m.\u001b[49m\u001b[43mhome\u001b[49m\u001b[43m(\u001b[49m\u001b[43m)\u001b[49m\u001b[43m,\u001b[49m\u001b[43m \u001b[49m\u001b[33;43mf\u001b[39;49m\u001b[33;43m'\u001b[39;49m\u001b[33;43mDownloads/llm_data/\u001b[39;49m\u001b[38;5;132;43;01m{\u001b[39;49;00m\u001b[43mmodel_name\u001b[49m\u001b[38;5;132;43;01m}\u001b[39;49;00m\u001b[33;43m'\u001b[39;49m\u001b[43m)\u001b[49m\u001b[43m,\u001b[49m\n\u001b[32m     78\u001b[39m \u001b[43m      \u001b[49m\u001b[33;43m'\u001b[39;49m\u001b[33;43mThe path to the model checkpoint, or directory holding the checkpoint.\u001b[39;49m\u001b[33;43m'\u001b[39;49m\u001b[43m,\u001b[49m\n\u001b[32m     79\u001b[39m \u001b[43m  \u001b[49m\u001b[43m)\u001b[49m\n\u001b[32m     80\u001b[39m   flags.DEFINE_string(\n\u001b[32m     81\u001b[39m       \u001b[33m'\u001b[39m\u001b[33moutput_path\u001b[39m\u001b[33m'\u001b[39m,\n\u001b[32m     82\u001b[39m       \u001b[33m'\u001b[39m\u001b[33m/tmp/\u001b[39m\u001b[33m'\u001b[39m,\n\u001b[32m     83\u001b[39m       \u001b[33m'\u001b[39m\u001b[33mThe path to export the tflite model.\u001b[39m\u001b[33m'\u001b[39m,\n\u001b[32m     84\u001b[39m   )\n\u001b[32m     85\u001b[39m   flags.DEFINE_string(\n\u001b[32m     86\u001b[39m       \u001b[33m'\u001b[39m\u001b[33moutput_name_prefix\u001b[39m\u001b[33m'\u001b[39m,\n\u001b[32m     87\u001b[39m       \u001b[33mf\u001b[39m\u001b[33m'\u001b[39m\u001b[38;5;132;01m{\u001b[39;00mmodel_name\u001b[38;5;132;01m}\u001b[39;00m\u001b[33m'\u001b[39m,\n\u001b[32m     88\u001b[39m       \u001b[33m'\u001b[39m\u001b[33mThe prefix of the output tflite model name.\u001b[39m\u001b[33m'\u001b[39m,\n\u001b[32m     89\u001b[39m   )\n",
      "\u001b[36mFile \u001b[39m\u001b[32m~/.pyenv/versions/edge/lib/python3.11/site-packages/absl/flags/_defines.py:419\u001b[39m, in \u001b[36mDEFINE_string\u001b[39m\u001b[34m(name, default, help, flag_values, required, **args)\u001b[39m\n\u001b[32m    417\u001b[39m parser = _argument_parser.ArgumentParser[\u001b[38;5;28mstr\u001b[39m]()\n\u001b[32m    418\u001b[39m serializer = _argument_parser.ArgumentSerializer[\u001b[38;5;28mstr\u001b[39m]()\n\u001b[32m--> \u001b[39m\u001b[32m419\u001b[39m \u001b[38;5;28;01mreturn\u001b[39;00m \u001b[43mDEFINE\u001b[49m\u001b[43m(\u001b[49m\n\u001b[32m    420\u001b[39m \u001b[43m    \u001b[49m\u001b[43mparser\u001b[49m\u001b[43m,\u001b[49m\n\u001b[32m    421\u001b[39m \u001b[43m    \u001b[49m\u001b[43mname\u001b[49m\u001b[43m,\u001b[49m\n\u001b[32m    422\u001b[39m \u001b[43m    \u001b[49m\u001b[43mdefault\u001b[49m\u001b[43m,\u001b[49m\n\u001b[32m    423\u001b[39m \u001b[43m    \u001b[49m\u001b[43mhelp\u001b[49m\u001b[43m,\u001b[49m\n\u001b[32m    424\u001b[39m \u001b[43m    \u001b[49m\u001b[43mflag_values\u001b[49m\u001b[43m,\u001b[49m\n\u001b[32m    425\u001b[39m \u001b[43m    \u001b[49m\u001b[43mserializer\u001b[49m\u001b[43m,\u001b[49m\n\u001b[32m    426\u001b[39m \u001b[43m    \u001b[49m\u001b[43mrequired\u001b[49m\u001b[43m=\u001b[49m\u001b[38;5;28;43;01mTrue\u001b[39;49;00m\u001b[43m \u001b[49m\u001b[38;5;28;43;01mif\u001b[39;49;00m\u001b[43m \u001b[49m\u001b[43mrequired\u001b[49m\u001b[43m \u001b[49m\u001b[38;5;28;43;01melse\u001b[39;49;00m\u001b[43m \u001b[49m\u001b[38;5;28;43;01mFalse\u001b[39;49;00m\u001b[43m,\u001b[49m\n\u001b[32m    427\u001b[39m \u001b[43m    \u001b[49m\u001b[43m*\u001b[49m\u001b[43m*\u001b[49m\u001b[43margs\u001b[49m\u001b[43m,\u001b[49m\n\u001b[32m    428\u001b[39m \u001b[43m\u001b[49m\u001b[43m)\u001b[49m\n",
      "\u001b[36mFile \u001b[39m\u001b[32m~/.pyenv/versions/edge/lib/python3.11/site-packages/absl/flags/_defines.py:123\u001b[39m, in \u001b[36mDEFINE\u001b[39m\u001b[34m(parser, name, default, help, flag_values, serializer, module_name, required, **args)\u001b[39m\n\u001b[32m     88\u001b[39m \u001b[38;5;28;01mdef\u001b[39;00m\u001b[38;5;250m \u001b[39m\u001b[34mDEFINE\u001b[39m(  \u001b[38;5;66;03m# pylint: disable=invalid-name\u001b[39;00m\n\u001b[32m     89\u001b[39m     parser,\n\u001b[32m     90\u001b[39m     name,\n\u001b[32m   (...)\u001b[39m\u001b[32m     96\u001b[39m     required=\u001b[38;5;28;01mFalse\u001b[39;00m,\n\u001b[32m     97\u001b[39m     **args):\n\u001b[32m     98\u001b[39m \u001b[38;5;250m  \u001b[39m\u001b[33;03m\"\"\"Registers a generic Flag object.\u001b[39;00m\n\u001b[32m     99\u001b[39m \n\u001b[32m    100\u001b[39m \u001b[33;03m  NOTE: in the docstrings of all DEFINE* functions, \"registers\" is short\u001b[39;00m\n\u001b[32m   (...)\u001b[39m\u001b[32m    121\u001b[39m \u001b[33;03m    a handle to defined flag.\u001b[39;00m\n\u001b[32m    122\u001b[39m \u001b[33;03m  \"\"\"\u001b[39;00m\n\u001b[32m--> \u001b[39m\u001b[32m123\u001b[39m   \u001b[38;5;28;01mreturn\u001b[39;00m \u001b[43mDEFINE_flag\u001b[49m\u001b[43m(\u001b[49m\n\u001b[32m    124\u001b[39m \u001b[43m      \u001b[49m\u001b[43m_flag\u001b[49m\u001b[43m.\u001b[49m\u001b[43mFlag\u001b[49m\u001b[43m(\u001b[49m\u001b[43mparser\u001b[49m\u001b[43m,\u001b[49m\u001b[43m \u001b[49m\u001b[43mserializer\u001b[49m\u001b[43m,\u001b[49m\u001b[43m \u001b[49m\u001b[43mname\u001b[49m\u001b[43m,\u001b[49m\u001b[43m \u001b[49m\u001b[43mdefault\u001b[49m\u001b[43m,\u001b[49m\u001b[43m \u001b[49m\u001b[43mhelp\u001b[49m\u001b[43m,\u001b[49m\u001b[43m \u001b[49m\u001b[43m*\u001b[49m\u001b[43m*\u001b[49m\u001b[43margs\u001b[49m\u001b[43m)\u001b[49m\u001b[43m,\u001b[49m\n\u001b[32m    125\u001b[39m \u001b[43m      \u001b[49m\u001b[43mflag_values\u001b[49m\u001b[43m,\u001b[49m\n\u001b[32m    126\u001b[39m \u001b[43m      \u001b[49m\u001b[43mmodule_name\u001b[49m\u001b[43m,\u001b[49m\n\u001b[32m    127\u001b[39m \u001b[43m      \u001b[49m\u001b[43mrequired\u001b[49m\u001b[43m=\u001b[49m\u001b[38;5;28;43;01mTrue\u001b[39;49;00m\u001b[43m \u001b[49m\u001b[38;5;28;43;01mif\u001b[39;49;00m\u001b[43m \u001b[49m\u001b[43mrequired\u001b[49m\u001b[43m \u001b[49m\u001b[38;5;28;43;01melse\u001b[39;49;00m\u001b[43m \u001b[49m\u001b[38;5;28;43;01mFalse\u001b[39;49;00m\u001b[43m,\u001b[49m\n\u001b[32m    128\u001b[39m \u001b[43m  \u001b[49m\u001b[43m)\u001b[49m\n",
      "\u001b[36mFile \u001b[39m\u001b[32m~/.pyenv/versions/edge/lib/python3.11/site-packages/absl/flags/_defines.py:183\u001b[39m, in \u001b[36mDEFINE_flag\u001b[39m\u001b[34m(flag, flag_values, module_name, required)\u001b[39m\n\u001b[32m    181\u001b[39m \u001b[38;5;66;03m# Copying the reference to flag_values prevents pychecker warnings.\u001b[39;00m\n\u001b[32m    182\u001b[39m fv = flag_values\n\u001b[32m--> \u001b[39m\u001b[32m183\u001b[39m \u001b[43mfv\u001b[49m\u001b[43m[\u001b[49m\u001b[43mflag\u001b[49m\u001b[43m.\u001b[49m\u001b[43mname\u001b[49m\u001b[43m]\u001b[49m = flag\n\u001b[32m    184\u001b[39m \u001b[38;5;66;03m# Tell flag_values who's defining the flag.\u001b[39;00m\n\u001b[32m    185\u001b[39m \u001b[38;5;28;01mif\u001b[39;00m module_name:\n",
      "\u001b[36mFile \u001b[39m\u001b[32m~/.pyenv/versions/edge/lib/python3.11/site-packages/absl/flags/_flagvalues.py:456\u001b[39m, in \u001b[36mFlagValues.__setitem__\u001b[39m\u001b[34m(self, name, flag)\u001b[39m\n\u001b[32m    450\u001b[39m   \u001b[38;5;28;01mif\u001b[39;00m (\u001b[38;5;28mself\u001b[39m.find_module_defining_flag(name) == module_name \u001b[38;5;129;01mand\u001b[39;00m\n\u001b[32m    451\u001b[39m       \u001b[38;5;28mid\u001b[39m(module) != \u001b[38;5;28mself\u001b[39m.find_module_id_defining_flag(name)):\n\u001b[32m    452\u001b[39m     \u001b[38;5;66;03m# If the flag has already been defined by a module with the same name,\u001b[39;00m\n\u001b[32m    453\u001b[39m     \u001b[38;5;66;03m# but a different ID, we can stop here because it indicates that the\u001b[39;00m\n\u001b[32m    454\u001b[39m     \u001b[38;5;66;03m# module is simply being imported a subsequent time.\u001b[39;00m\n\u001b[32m    455\u001b[39m     \u001b[38;5;28;01mreturn\u001b[39;00m\n\u001b[32m--> \u001b[39m\u001b[32m456\u001b[39m   \u001b[38;5;28;01mraise\u001b[39;00m _exceptions.DuplicateFlagError.from_flag(name, \u001b[38;5;28mself\u001b[39m)\n\u001b[32m    457\u001b[39m \u001b[38;5;66;03m# If a new flag overrides an old one, we need to cleanup the old flag's\u001b[39;00m\n\u001b[32m    458\u001b[39m \u001b[38;5;66;03m# modules if it's not registered.\u001b[39;00m\n\u001b[32m    459\u001b[39m flags_to_cleanup = \u001b[38;5;28mset\u001b[39m()\n",
      "\u001b[31mDuplicateFlagError\u001b[39m: The flag 'checkpoint_path' is defined twice. First from ai_edge_torch.generative.utilities.converter, Second from ai_edge_torch.generative.utilities.converter.  Description from first occurrence: The path to the model checkpoint, or directory holding the checkpoint."
     ]
    }
   ],
   "source": [
    "\"\"\"Example of converting a Gemma2 model to multi-signature tflite model.\"\"\"\n",
    "\n",
    "from absl import app\n",
    "from ai_edge_torch.generative.examples.gemma import gemma2\n",
    "from ai_edge_torch.generative.utilities import converter\n",
    "from ai_edge_torch.generative.utilities import export_config\n",
    "from ai_edge_torch.generative.utilities import loader\n",
    "import sys\n",
    "\n",
    "flags = converter.define_conversion_flags(\n",
    "    \"gemma2-2b\", default_mask_as_input=True, default_transpose_kv_cache=True\n",
    ")"
   ]
  },
  {
   "cell_type": "code",
   "execution_count": 7,
   "id": "d1704b17",
   "metadata": {},
   "outputs": [
    {
     "ename": "FileNotFoundError",
     "evalue": "File or directory not found: /home/joonyoung/Downloads/llm_data/gemma2-2b",
     "output_type": "error",
     "traceback": [
      "\u001b[31m---------------------------------------------------------------------------\u001b[39m",
      "\u001b[31mFileNotFoundError\u001b[39m                         Traceback (most recent call last)",
      "\u001b[36mCell\u001b[39m\u001b[36m \u001b[39m\u001b[32mIn[7]\u001b[39m\u001b[32m, line 25\u001b[39m\n\u001b[32m     22\u001b[39m \u001b[38;5;28;01mif\u001b[39;00m \u001b[34m__name__\u001b[39m == \u001b[33m'\u001b[39m\u001b[33m__main__\u001b[39m\u001b[33m'\u001b[39m:\n\u001b[32m     23\u001b[39m   \u001b[38;5;66;03m# Keep only argv[0] so Abseil sees no unknown flags\u001b[39;00m\n\u001b[32m     24\u001b[39m   sys.argv = sys.argv[:\u001b[32m1\u001b[39m]\n\u001b[32m---> \u001b[39m\u001b[32m25\u001b[39m   \u001b[43mapp\u001b[49m\u001b[43m.\u001b[49m\u001b[43mrun\u001b[49m\u001b[43m(\u001b[49m\u001b[43mmain\u001b[49m\u001b[43m)\u001b[49m\n",
      "\u001b[36mFile \u001b[39m\u001b[32m~/.pyenv/versions/edge/lib/python3.11/site-packages/absl/app.py:316\u001b[39m, in \u001b[36mrun\u001b[39m\u001b[34m(main, argv, flags_parser)\u001b[39m\n\u001b[32m    314\u001b[39m   callback()\n\u001b[32m    315\u001b[39m \u001b[38;5;28;01mtry\u001b[39;00m:\n\u001b[32m--> \u001b[39m\u001b[32m316\u001b[39m   \u001b[43m_run_main\u001b[49m\u001b[43m(\u001b[49m\u001b[43mmain\u001b[49m\u001b[43m,\u001b[49m\u001b[43m \u001b[49m\u001b[43margs\u001b[49m\u001b[43m)\u001b[49m\n\u001b[32m    317\u001b[39m \u001b[38;5;28;01mexcept\u001b[39;00m UsageError \u001b[38;5;28;01mas\u001b[39;00m error:\n\u001b[32m    318\u001b[39m   usage(shorthelp=\u001b[38;5;28;01mTrue\u001b[39;00m, detailed_error=error, exitcode=error.exitcode)\n",
      "\u001b[36mFile \u001b[39m\u001b[32m~/.pyenv/versions/edge/lib/python3.11/site-packages/absl/app.py:261\u001b[39m, in \u001b[36m_run_main\u001b[39m\u001b[34m(main, argv)\u001b[39m\n\u001b[32m    259\u001b[39m   sys.exit(profiler.runcall(main, argv))\n\u001b[32m    260\u001b[39m \u001b[38;5;28;01melse\u001b[39;00m:\n\u001b[32m--> \u001b[39m\u001b[32m261\u001b[39m   sys.exit(\u001b[43mmain\u001b[49m\u001b[43m(\u001b[49m\u001b[43margv\u001b[49m\u001b[43m)\u001b[49m)\n",
      "\u001b[36mCell\u001b[39m\u001b[36m \u001b[39m\u001b[32mIn[7]\u001b[39m\u001b[32m, line 3\u001b[39m, in \u001b[36mmain\u001b[39m\u001b[34m(_)\u001b[39m\n\u001b[32m      1\u001b[39m \u001b[38;5;28;01mdef\u001b[39;00m\u001b[38;5;250m \u001b[39m\u001b[34mmain\u001b[39m(_):\n\u001b[32m      2\u001b[39m   checkpoint_path = flags.FLAGS.checkpoint_path\n\u001b[32m----> \u001b[39m\u001b[32m3\u001b[39m   pytorch_model = \u001b[43mgemma2\u001b[49m\u001b[43m.\u001b[49m\u001b[43mbuild_2b_model\u001b[49m\u001b[43m(\u001b[49m\n\u001b[32m      4\u001b[39m \u001b[43m      \u001b[49m\u001b[43mcheckpoint_path\u001b[49m\u001b[43m,\u001b[49m\n\u001b[32m      5\u001b[39m \u001b[43m      \u001b[49m\u001b[43mcustom_loader\u001b[49m\u001b[43m=\u001b[49m\u001b[43mloader\u001b[49m\u001b[43m.\u001b[49m\u001b[43mmaybe_get_custom_loader\u001b[49m\u001b[43m(\u001b[49m\n\u001b[32m      6\u001b[39m \u001b[43m          \u001b[49m\u001b[43mcheckpoint_path\u001b[49m\u001b[43m,\u001b[49m\u001b[43m \u001b[49m\u001b[43mflags\u001b[49m\u001b[43m.\u001b[49m\u001b[43mFLAGS\u001b[49m\u001b[43m.\u001b[49m\u001b[43mcustom_checkpoint_loader\u001b[49m\n\u001b[32m      7\u001b[39m \u001b[43m      \u001b[49m\u001b[43m)\u001b[49m\u001b[43m,\u001b[49m\n\u001b[32m      8\u001b[39m \u001b[43m      \u001b[49m\u001b[43mmask_cache_size\u001b[49m\u001b[43m=\u001b[49m\u001b[43mconverter\u001b[49m\u001b[43m.\u001b[49m\u001b[43mget_mask_cache_size_from_flags\u001b[49m\u001b[43m(\u001b[49m\u001b[43m)\u001b[49m\u001b[43m,\u001b[49m\n\u001b[32m      9\u001b[39m \u001b[43m  \u001b[49m\u001b[43m)\u001b[49m\n\u001b[32m     10\u001b[39m   converter.convert_to_tflite(\n\u001b[32m     11\u001b[39m       pytorch_model,\n\u001b[32m     12\u001b[39m       output_path=flags.FLAGS.output_path,\n\u001b[32m   (...)\u001b[39m\u001b[32m     18\u001b[39m       export_config=export_config.get_from_flags(),\n\u001b[32m     19\u001b[39m   )\n",
      "\u001b[36mFile \u001b[39m\u001b[32m~/ai-edge-torch/ai_edge_torch/generative/examples/gemma/gemma2.py:311\u001b[39m, in \u001b[36mbuild_2b_model\u001b[39m\u001b[34m(checkpoint_path, custom_loader, mask_cache_size)\u001b[39m\n\u001b[32m    309\u001b[39m \u001b[38;5;28;01mfor\u001b[39;00m tensor_names \u001b[38;5;129;01min\u001b[39;00m TENSOR_NAMES_DICT.values():\n\u001b[32m    310\u001b[39m   \u001b[38;5;28;01mtry\u001b[39;00m:\n\u001b[32m--> \u001b[39m\u001b[32m311\u001b[39m     \u001b[38;5;28;01mreturn\u001b[39;00m \u001b[43mmodel_builder\u001b[49m\u001b[43m.\u001b[49m\u001b[43mbuild_decoder_only_model\u001b[49m\u001b[43m(\u001b[49m\n\u001b[32m    312\u001b[39m \u001b[43m        \u001b[49m\u001b[43mcheckpoint_path\u001b[49m\u001b[43m=\u001b[49m\u001b[43mcheckpoint_path\u001b[49m\u001b[43m,\u001b[49m\n\u001b[32m    313\u001b[39m \u001b[43m        \u001b[49m\u001b[43mconfig\u001b[49m\u001b[43m=\u001b[49m\u001b[43mget_model_config_2b\u001b[49m\u001b[43m(\u001b[49m\u001b[43m)\u001b[49m\u001b[43m,\u001b[49m\n\u001b[32m    314\u001b[39m \u001b[43m        \u001b[49m\u001b[43mtensor_names\u001b[49m\u001b[43m=\u001b[49m\u001b[43mtensor_names\u001b[49m\u001b[43m,\u001b[49m\n\u001b[32m    315\u001b[39m \u001b[43m        \u001b[49m\u001b[43mmodel_class\u001b[49m\u001b[43m=\u001b[49m\u001b[43mGemma2\u001b[49m\u001b[43m,\u001b[49m\n\u001b[32m    316\u001b[39m \u001b[43m        \u001b[49m\u001b[43mcustom_loader\u001b[49m\u001b[43m=\u001b[49m\u001b[43mcustom_loader\u001b[49m\u001b[43m,\u001b[49m\n\u001b[32m    317\u001b[39m \u001b[43m        \u001b[49m\u001b[43mmask_cache_size\u001b[49m\u001b[43m=\u001b[49m\u001b[43mmask_cache_size\u001b[49m\u001b[43m,\u001b[49m\n\u001b[32m    318\u001b[39m \u001b[43m    \u001b[49m\u001b[43m)\u001b[49m\n\u001b[32m    319\u001b[39m   \u001b[38;5;28;01mexcept\u001b[39;00m \u001b[38;5;167;01mKeyError\u001b[39;00m \u001b[38;5;28;01mas\u001b[39;00m _:\n\u001b[32m    320\u001b[39m     \u001b[38;5;28;01mcontinue\u001b[39;00m\n",
      "\u001b[36mFile \u001b[39m\u001b[32m~/ai-edge-torch/ai_edge_torch/generative/utilities/model_builder.py:177\u001b[39m, in \u001b[36mbuild_decoder_only_model\u001b[39m\u001b[34m(checkpoint_path, config, tensor_names, model_class, custom_loader, mask_cache_size)\u001b[39m\n\u001b[32m    168\u001b[39m \u001b[38;5;28;01mdef\u001b[39;00m\u001b[38;5;250m \u001b[39m\u001b[34mbuild_decoder_only_model\u001b[39m(\n\u001b[32m    169\u001b[39m     checkpoint_path: \u001b[38;5;28mstr\u001b[39m,\n\u001b[32m    170\u001b[39m     config: cfg.ModelConfig,\n\u001b[32m   (...)\u001b[39m\u001b[32m    174\u001b[39m     mask_cache_size: \u001b[38;5;28mint\u001b[39m = \u001b[32m0\u001b[39m,\n\u001b[32m    175\u001b[39m ) -> nn.Module:\n\u001b[32m    176\u001b[39m   transformer = model_class(config, mask_cache_size)\n\u001b[32m--> \u001b[39m\u001b[32m177\u001b[39m   loader = \u001b[43mloading_utils\u001b[49m\u001b[43m.\u001b[49m\u001b[43mModelLoader\u001b[49m\u001b[43m(\u001b[49m\n\u001b[32m    178\u001b[39m \u001b[43m      \u001b[49m\u001b[43mcheckpoint_path\u001b[49m\u001b[43m,\u001b[49m\u001b[43m \u001b[49m\u001b[43mtensor_names\u001b[49m\u001b[43m,\u001b[49m\u001b[43m \u001b[49m\u001b[43mcustom_loader\u001b[49m\n\u001b[32m    179\u001b[39m \u001b[43m  \u001b[49m\u001b[43m)\u001b[49m\n\u001b[32m    180\u001b[39m   loader.load(\n\u001b[32m    181\u001b[39m       transformer, strict=\u001b[38;5;129;01mnot\u001b[39;00m config.lm_head_share_weight_with_embedding\n\u001b[32m    182\u001b[39m   )\n\u001b[32m    183\u001b[39m   transformer.eval()\n",
      "\u001b[36mFile \u001b[39m\u001b[32m~/ai-edge-torch/ai_edge_torch/generative/utilities/loader.py:195\u001b[39m, in \u001b[36mModelLoader.__init__\u001b[39m\u001b[34m(self, file_name, names, custom_loader)\u001b[39m\n\u001b[32m    192\u001b[39m \u001b[38;5;28mself\u001b[39m._file_name = file_name\n\u001b[32m    193\u001b[39m \u001b[38;5;28mself\u001b[39m._names = names\n\u001b[32m    194\u001b[39m \u001b[38;5;28mself\u001b[39m._loader = (\n\u001b[32m--> \u001b[39m\u001b[32m195\u001b[39m     custom_loader \u001b[38;5;28;01mif\u001b[39;00m custom_loader \u001b[38;5;129;01mis\u001b[39;00m \u001b[38;5;129;01mnot\u001b[39;00m \u001b[38;5;28;01mNone\u001b[39;00m \u001b[38;5;28;01melse\u001b[39;00m \u001b[38;5;28;43mself\u001b[39;49m\u001b[43m.\u001b[49m\u001b[43m_get_loader\u001b[49m\u001b[43m(\u001b[49m\u001b[43m)\u001b[49m\n\u001b[32m    196\u001b[39m )\n",
      "\u001b[36mFile \u001b[39m\u001b[32m~/ai-edge-torch/ai_edge_torch/generative/utilities/loader.py:276\u001b[39m, in \u001b[36mModelLoader._get_loader\u001b[39m\u001b[34m(self)\u001b[39m\n\u001b[32m    266\u001b[39m \u001b[38;5;250m\u001b[39m\u001b[33;03m\"\"\"A best effort method for finding appropriate state loader.\u001b[39;00m\n\u001b[32m    267\u001b[39m \n\u001b[32m    268\u001b[39m \u001b[33;03mRaises:\u001b[39;00m\n\u001b[32m   (...)\u001b[39m\u001b[32m    273\u001b[39m \u001b[33;03m    Callable[[str], Dict[str, torch.Tensor]]: State loader to be used.\u001b[39;00m\n\u001b[32m    274\u001b[39m \u001b[33;03m\"\"\"\u001b[39;00m\n\u001b[32m    275\u001b[39m \u001b[38;5;28;01mif\u001b[39;00m \u001b[38;5;129;01mnot\u001b[39;00m os.path.exists(\u001b[38;5;28mself\u001b[39m._file_name):\n\u001b[32m--> \u001b[39m\u001b[32m276\u001b[39m   \u001b[38;5;28;01mraise\u001b[39;00m \u001b[38;5;167;01mFileNotFoundError\u001b[39;00m(\u001b[33mf\u001b[39m\u001b[33m\"\u001b[39m\u001b[33mFile or directory not found: \u001b[39m\u001b[38;5;132;01m{\u001b[39;00m\u001b[38;5;28mself\u001b[39m._file_name\u001b[38;5;132;01m}\u001b[39;00m\u001b[33m\"\u001b[39m)\n\u001b[32m    278\u001b[39m \u001b[38;5;28;01mif\u001b[39;00m os.path.isdir(\u001b[38;5;28mself\u001b[39m._file_name):\n\u001b[32m    279\u001b[39m   \u001b[38;5;28;01mif\u001b[39;00m glob.glob(os.path.join(\u001b[38;5;28mself\u001b[39m._file_name, \u001b[33m\"\u001b[39m\u001b[33m*.safetensors\u001b[39m\u001b[33m\"\u001b[39m)):\n",
      "\u001b[31mFileNotFoundError\u001b[39m: File or directory not found: /home/joonyoung/Downloads/llm_data/gemma2-2b"
     ]
    }
   ],
   "source": [
    "def main(_):\n",
    "  checkpoint_path = flags.FLAGS.checkpoint_path\n",
    "  pytorch_model = gemma2.build_2b_model(\n",
    "      checkpoint_path,\n",
    "      custom_loader=loader.maybe_get_custom_loader(\n",
    "          checkpoint_path, flags.FLAGS.custom_checkpoint_loader\n",
    "      ),\n",
    "      mask_cache_size=converter.get_mask_cache_size_from_flags(),\n",
    "  )\n",
    "  converter.convert_to_tflite(\n",
    "      pytorch_model,\n",
    "      output_path=flags.FLAGS.output_path,\n",
    "      output_name_prefix=flags.FLAGS.output_name_prefix,\n",
    "      prefill_seq_len=flags.FLAGS.prefill_seq_lens,\n",
    "      kv_cache_max_len=flags.FLAGS.kv_cache_max_len,\n",
    "      quantize=flags.FLAGS.quantize,\n",
    "      lora_ranks=flags.FLAGS.lora_ranks,\n",
    "      export_config=export_config.get_from_flags(),\n",
    "  )\n",
    "\n",
    "\n",
    "if __name__ == '__main__':\n",
    "  # Keep only argv[0] so Abseil sees no unknown flags\n",
    "  sys.argv = sys.argv[:1]\n",
    "  app.run(main)\n"
   ]
  }
 ],
 "metadata": {
  "kernelspec": {
   "display_name": "edge",
   "language": "python",
   "name": "python3"
  },
  "language_info": {
   "codemirror_mode": {
    "name": "ipython",
    "version": 3
   },
   "file_extension": ".py",
   "mimetype": "text/x-python",
   "name": "python",
   "nbconvert_exporter": "python",
   "pygments_lexer": "ipython3",
   "version": "3.11.9"
  }
 },
 "nbformat": 4,
 "nbformat_minor": 5
}
